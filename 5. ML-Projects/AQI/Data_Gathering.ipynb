{
 "cells": [
  {
   "cell_type": "code",
   "execution_count": 1,
   "metadata": {},
   "outputs": [],
   "source": [
    "import os\n",
    "import time\n",
    "import sys\n",
    "import requests"
   ]
  },
  {
   "cell_type": "code",
   "execution_count": 2,
   "metadata": {},
   "outputs": [],
   "source": [
    "def retrieve_html():\n",
    "    for year in range(2013, 2019):\n",
    "        for month in range(1, 13):\n",
    "            if(month < 10):\n",
    "                url = f'https://en.tutiempo.net/climate/0{month}-{year}/ws-432950.html'\n",
    "            else:\n",
    "                url = f'https://en.tutiempo.net/climate/{month}-{year}/ws-432950.html'\n",
    "            texts = requests.get(url)\n",
    "            text_utf = texts.text.encode('utf=8')\n",
    "        \n",
    "            # Check if the required directory exists, if not create it\n",
    "            if not os.path.exists(f'../AQI/Data/html_Data/{year}'):\n",
    "                os.makedirs(f'../AQI/Data/html_Data/{year}')\n",
    "            \n",
    "            with open(f'../AQI/Data/html_Data/{year}/{month}.html', 'wb') as output:\n",
    "                output.write(text_utf)\n",
    "            \n",
    "        sys.stdout.flush()\n",
    "            \n",
    "                "
   ]
  },
  {
   "cell_type": "code",
   "execution_count": 3,
   "metadata": {},
   "outputs": [
    {
     "name": "stdout",
     "output_type": "stream",
     "text": [
      "total time taken = 49.952242612838745\n"
     ]
    }
   ],
   "source": [
    "start_time = time.time()\n",
    "retrieve_html()\n",
    "stop_time = time.time()\n",
    "\n",
    "print(f'total time taken = {stop_time - start_time}')"
   ]
  },
  {
   "cell_type": "code",
   "execution_count": null,
   "metadata": {},
   "outputs": [],
   "source": []
  },
  {
   "cell_type": "code",
   "execution_count": null,
   "metadata": {},
   "outputs": [],
   "source": []
  }
 ],
 "metadata": {
  "kernelspec": {
   "display_name": "Python 3",
   "language": "python",
   "name": "python3"
  },
  "language_info": {
   "codemirror_mode": {
    "name": "ipython",
    "version": 3
   },
   "file_extension": ".py",
   "mimetype": "text/x-python",
   "name": "python",
   "nbconvert_exporter": "python",
   "pygments_lexer": "ipython3",
   "version": "3.8.5"
  }
 },
 "nbformat": 4,
 "nbformat_minor": 4
}
