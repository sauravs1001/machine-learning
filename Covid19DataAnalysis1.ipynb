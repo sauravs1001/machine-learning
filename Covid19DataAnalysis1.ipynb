{
 "cells": [
  {
   "cell_type": "markdown",
   "metadata": {},
   "source": [
    "#### Import Required Libraries"
   ]
  },
  {
   "cell_type": "code",
   "execution_count": 1,
   "metadata": {},
   "outputs": [],
   "source": [
    "import pandas as pd\n",
    "import numpy as np\n",
    "import matplotlib.pyplot as plt"
   ]
  },
  {
   "cell_type": "markdown",
   "metadata": {},
   "source": [
    "#### Read the Dataset"
   ]
  },
  {
   "cell_type": "code",
   "execution_count": 2,
   "metadata": {},
   "outputs": [
    {
     "name": "stderr",
     "output_type": "stream",
     "text": [
      "C:\\Users\\ssatapathy\\machine_learning_project\\env\\lib\\site-packages\\IPython\\core\\interactiveshell.py:3145: DtypeWarning: Columns (3) have mixed types.Specify dtype option on import or set low_memory=False.\n",
      "  has_raised = await self.run_ast_nodes(code_ast.body, cell_name,\n"
     ]
    }
   ],
   "source": [
    "df = pd.read_csv('Covid19India.csv')"
   ]
  },
  {
   "cell_type": "code",
   "execution_count": 3,
   "metadata": {},
   "outputs": [
    {
     "data": {
      "text/html": [
       "<div>\n",
       "<style scoped>\n",
       "    .dataframe tbody tr th:only-of-type {\n",
       "        vertical-align: middle;\n",
       "    }\n",
       "\n",
       "    .dataframe tbody tr th {\n",
       "        vertical-align: top;\n",
       "    }\n",
       "\n",
       "    .dataframe thead th {\n",
       "        text-align: right;\n",
       "    }\n",
       "</style>\n",
       "<table border=\"1\" class=\"dataframe\">\n",
       "  <thead>\n",
       "    <tr style=\"text-align: right;\">\n",
       "      <th></th>\n",
       "      <th>Unnamed: 0</th>\n",
       "      <th>Num Cases</th>\n",
       "      <th>Date Announced</th>\n",
       "      <th>Age Bracket</th>\n",
       "      <th>Gender</th>\n",
       "      <th>Detected City</th>\n",
       "      <th>Detected District</th>\n",
       "      <th>Detected State</th>\n",
       "      <th>Current Status</th>\n",
       "      <th>Day</th>\n",
       "      <th>Month</th>\n",
       "      <th>Year</th>\n",
       "    </tr>\n",
       "  </thead>\n",
       "  <tbody>\n",
       "    <tr>\n",
       "      <th>0</th>\n",
       "      <td>0</td>\n",
       "      <td>1.0</td>\n",
       "      <td>30/01/2020</td>\n",
       "      <td>20</td>\n",
       "      <td>F</td>\n",
       "      <td>Thrissur</td>\n",
       "      <td>Thrissur</td>\n",
       "      <td>Kerala</td>\n",
       "      <td>Recovered</td>\n",
       "      <td>30.0</td>\n",
       "      <td>1.0</td>\n",
       "      <td>2020.0</td>\n",
       "    </tr>\n",
       "    <tr>\n",
       "      <th>1</th>\n",
       "      <td>1</td>\n",
       "      <td>1.0</td>\n",
       "      <td>02/02/2020</td>\n",
       "      <td>NaN</td>\n",
       "      <td>NaN</td>\n",
       "      <td>Alappuzha</td>\n",
       "      <td>Alappuzha</td>\n",
       "      <td>Kerala</td>\n",
       "      <td>Recovered</td>\n",
       "      <td>2.0</td>\n",
       "      <td>2.0</td>\n",
       "      <td>2020.0</td>\n",
       "    </tr>\n",
       "    <tr>\n",
       "      <th>2</th>\n",
       "      <td>2</td>\n",
       "      <td>1.0</td>\n",
       "      <td>03/02/2020</td>\n",
       "      <td>NaN</td>\n",
       "      <td>NaN</td>\n",
       "      <td>Kasaragod</td>\n",
       "      <td>Kasaragod</td>\n",
       "      <td>Kerala</td>\n",
       "      <td>Recovered</td>\n",
       "      <td>3.0</td>\n",
       "      <td>2.0</td>\n",
       "      <td>2020.0</td>\n",
       "    </tr>\n",
       "    <tr>\n",
       "      <th>3</th>\n",
       "      <td>3</td>\n",
       "      <td>1.0</td>\n",
       "      <td>02/03/2020</td>\n",
       "      <td>45</td>\n",
       "      <td>M</td>\n",
       "      <td>East Delhi (Mayur Vihar)</td>\n",
       "      <td>East Delhi</td>\n",
       "      <td>Delhi</td>\n",
       "      <td>Recovered</td>\n",
       "      <td>2.0</td>\n",
       "      <td>3.0</td>\n",
       "      <td>2020.0</td>\n",
       "    </tr>\n",
       "    <tr>\n",
       "      <th>4</th>\n",
       "      <td>4</td>\n",
       "      <td>1.0</td>\n",
       "      <td>02/03/2020</td>\n",
       "      <td>24</td>\n",
       "      <td>M</td>\n",
       "      <td>Hyderabad</td>\n",
       "      <td>Hyderabad</td>\n",
       "      <td>Telangana</td>\n",
       "      <td>Recovered</td>\n",
       "      <td>2.0</td>\n",
       "      <td>3.0</td>\n",
       "      <td>2020.0</td>\n",
       "    </tr>\n",
       "    <tr>\n",
       "      <th>...</th>\n",
       "      <td>...</td>\n",
       "      <td>...</td>\n",
       "      <td>...</td>\n",
       "      <td>...</td>\n",
       "      <td>...</td>\n",
       "      <td>...</td>\n",
       "      <td>...</td>\n",
       "      <td>...</td>\n",
       "      <td>...</td>\n",
       "      <td>...</td>\n",
       "      <td>...</td>\n",
       "      <td>...</td>\n",
       "    </tr>\n",
       "    <tr>\n",
       "      <th>419650</th>\n",
       "      <td>14695</td>\n",
       "      <td>NaN</td>\n",
       "      <td>23/11/2020</td>\n",
       "      <td>NaN</td>\n",
       "      <td>NaN</td>\n",
       "      <td>NaN</td>\n",
       "      <td>NaN</td>\n",
       "      <td>NaN</td>\n",
       "      <td>NaN</td>\n",
       "      <td>23.0</td>\n",
       "      <td>11.0</td>\n",
       "      <td>2020.0</td>\n",
       "    </tr>\n",
       "    <tr>\n",
       "      <th>419651</th>\n",
       "      <td>14696</td>\n",
       "      <td>NaN</td>\n",
       "      <td>23/11/2020</td>\n",
       "      <td>NaN</td>\n",
       "      <td>NaN</td>\n",
       "      <td>NaN</td>\n",
       "      <td>NaN</td>\n",
       "      <td>NaN</td>\n",
       "      <td>NaN</td>\n",
       "      <td>23.0</td>\n",
       "      <td>11.0</td>\n",
       "      <td>2020.0</td>\n",
       "    </tr>\n",
       "    <tr>\n",
       "      <th>419652</th>\n",
       "      <td>14697</td>\n",
       "      <td>NaN</td>\n",
       "      <td>23/11/2020</td>\n",
       "      <td>NaN</td>\n",
       "      <td>NaN</td>\n",
       "      <td>NaN</td>\n",
       "      <td>NaN</td>\n",
       "      <td>NaN</td>\n",
       "      <td>NaN</td>\n",
       "      <td>23.0</td>\n",
       "      <td>11.0</td>\n",
       "      <td>2020.0</td>\n",
       "    </tr>\n",
       "    <tr>\n",
       "      <th>419653</th>\n",
       "      <td>14698</td>\n",
       "      <td>NaN</td>\n",
       "      <td>23/11/2020</td>\n",
       "      <td>NaN</td>\n",
       "      <td>NaN</td>\n",
       "      <td>NaN</td>\n",
       "      <td>NaN</td>\n",
       "      <td>NaN</td>\n",
       "      <td>NaN</td>\n",
       "      <td>23.0</td>\n",
       "      <td>11.0</td>\n",
       "      <td>2020.0</td>\n",
       "    </tr>\n",
       "    <tr>\n",
       "      <th>419654</th>\n",
       "      <td>14699</td>\n",
       "      <td>NaN</td>\n",
       "      <td>23/11/2020</td>\n",
       "      <td>NaN</td>\n",
       "      <td>NaN</td>\n",
       "      <td>NaN</td>\n",
       "      <td>NaN</td>\n",
       "      <td>NaN</td>\n",
       "      <td>NaN</td>\n",
       "      <td>23.0</td>\n",
       "      <td>11.0</td>\n",
       "      <td>2020.0</td>\n",
       "    </tr>\n",
       "  </tbody>\n",
       "</table>\n",
       "<p>419655 rows × 12 columns</p>\n",
       "</div>"
      ],
      "text/plain": [
       "        Unnamed: 0  Num Cases Date Announced Age Bracket Gender  \\\n",
       "0                0        1.0     30/01/2020          20      F   \n",
       "1                1        1.0     02/02/2020         NaN    NaN   \n",
       "2                2        1.0     03/02/2020         NaN    NaN   \n",
       "3                3        1.0     02/03/2020          45      M   \n",
       "4                4        1.0     02/03/2020          24      M   \n",
       "...            ...        ...            ...         ...    ...   \n",
       "419650       14695        NaN     23/11/2020         NaN    NaN   \n",
       "419651       14696        NaN     23/11/2020         NaN    NaN   \n",
       "419652       14697        NaN     23/11/2020         NaN    NaN   \n",
       "419653       14698        NaN     23/11/2020         NaN    NaN   \n",
       "419654       14699        NaN     23/11/2020         NaN    NaN   \n",
       "\n",
       "                   Detected City Detected District Detected State  \\\n",
       "0                       Thrissur          Thrissur         Kerala   \n",
       "1                      Alappuzha         Alappuzha         Kerala   \n",
       "2                      Kasaragod         Kasaragod         Kerala   \n",
       "3       East Delhi (Mayur Vihar)        East Delhi          Delhi   \n",
       "4                      Hyderabad         Hyderabad      Telangana   \n",
       "...                          ...               ...            ...   \n",
       "419650                       NaN               NaN            NaN   \n",
       "419651                       NaN               NaN            NaN   \n",
       "419652                       NaN               NaN            NaN   \n",
       "419653                       NaN               NaN            NaN   \n",
       "419654                       NaN               NaN            NaN   \n",
       "\n",
       "       Current Status   Day  Month    Year  \n",
       "0           Recovered  30.0    1.0  2020.0  \n",
       "1           Recovered   2.0    2.0  2020.0  \n",
       "2           Recovered   3.0    2.0  2020.0  \n",
       "3           Recovered   2.0    3.0  2020.0  \n",
       "4           Recovered   2.0    3.0  2020.0  \n",
       "...               ...   ...    ...     ...  \n",
       "419650            NaN  23.0   11.0  2020.0  \n",
       "419651            NaN  23.0   11.0  2020.0  \n",
       "419652            NaN  23.0   11.0  2020.0  \n",
       "419653            NaN  23.0   11.0  2020.0  \n",
       "419654            NaN  23.0   11.0  2020.0  \n",
       "\n",
       "[419655 rows x 12 columns]"
      ]
     },
     "execution_count": 3,
     "metadata": {},
     "output_type": "execute_result"
    }
   ],
   "source": [
    "df"
   ]
  },
  {
   "cell_type": "code",
   "execution_count": 4,
   "metadata": {},
   "outputs": [
    {
     "data": {
      "text/html": [
       "<div>\n",
       "<style scoped>\n",
       "    .dataframe tbody tr th:only-of-type {\n",
       "        vertical-align: middle;\n",
       "    }\n",
       "\n",
       "    .dataframe tbody tr th {\n",
       "        vertical-align: top;\n",
       "    }\n",
       "\n",
       "    .dataframe thead th {\n",
       "        text-align: right;\n",
       "    }\n",
       "</style>\n",
       "<table border=\"1\" class=\"dataframe\">\n",
       "  <thead>\n",
       "    <tr style=\"text-align: right;\">\n",
       "      <th></th>\n",
       "      <th>Num Cases</th>\n",
       "      <th>Date Announced</th>\n",
       "      <th>Age Bracket</th>\n",
       "      <th>Gender</th>\n",
       "      <th>Detected City</th>\n",
       "      <th>Detected District</th>\n",
       "      <th>Detected State</th>\n",
       "      <th>Current Status</th>\n",
       "      <th>Day</th>\n",
       "      <th>Month</th>\n",
       "      <th>Year</th>\n",
       "    </tr>\n",
       "  </thead>\n",
       "  <tbody>\n",
       "    <tr>\n",
       "      <th>0</th>\n",
       "      <td>1.0</td>\n",
       "      <td>30/01/2020</td>\n",
       "      <td>20</td>\n",
       "      <td>F</td>\n",
       "      <td>Thrissur</td>\n",
       "      <td>Thrissur</td>\n",
       "      <td>Kerala</td>\n",
       "      <td>Recovered</td>\n",
       "      <td>30.0</td>\n",
       "      <td>1.0</td>\n",
       "      <td>2020.0</td>\n",
       "    </tr>\n",
       "    <tr>\n",
       "      <th>1</th>\n",
       "      <td>1.0</td>\n",
       "      <td>02/02/2020</td>\n",
       "      <td>NaN</td>\n",
       "      <td>NaN</td>\n",
       "      <td>Alappuzha</td>\n",
       "      <td>Alappuzha</td>\n",
       "      <td>Kerala</td>\n",
       "      <td>Recovered</td>\n",
       "      <td>2.0</td>\n",
       "      <td>2.0</td>\n",
       "      <td>2020.0</td>\n",
       "    </tr>\n",
       "    <tr>\n",
       "      <th>2</th>\n",
       "      <td>1.0</td>\n",
       "      <td>03/02/2020</td>\n",
       "      <td>NaN</td>\n",
       "      <td>NaN</td>\n",
       "      <td>Kasaragod</td>\n",
       "      <td>Kasaragod</td>\n",
       "      <td>Kerala</td>\n",
       "      <td>Recovered</td>\n",
       "      <td>3.0</td>\n",
       "      <td>2.0</td>\n",
       "      <td>2020.0</td>\n",
       "    </tr>\n",
       "    <tr>\n",
       "      <th>3</th>\n",
       "      <td>1.0</td>\n",
       "      <td>02/03/2020</td>\n",
       "      <td>45</td>\n",
       "      <td>M</td>\n",
       "      <td>East Delhi (Mayur Vihar)</td>\n",
       "      <td>East Delhi</td>\n",
       "      <td>Delhi</td>\n",
       "      <td>Recovered</td>\n",
       "      <td>2.0</td>\n",
       "      <td>3.0</td>\n",
       "      <td>2020.0</td>\n",
       "    </tr>\n",
       "    <tr>\n",
       "      <th>4</th>\n",
       "      <td>1.0</td>\n",
       "      <td>02/03/2020</td>\n",
       "      <td>24</td>\n",
       "      <td>M</td>\n",
       "      <td>Hyderabad</td>\n",
       "      <td>Hyderabad</td>\n",
       "      <td>Telangana</td>\n",
       "      <td>Recovered</td>\n",
       "      <td>2.0</td>\n",
       "      <td>3.0</td>\n",
       "      <td>2020.0</td>\n",
       "    </tr>\n",
       "    <tr>\n",
       "      <th>...</th>\n",
       "      <td>...</td>\n",
       "      <td>...</td>\n",
       "      <td>...</td>\n",
       "      <td>...</td>\n",
       "      <td>...</td>\n",
       "      <td>...</td>\n",
       "      <td>...</td>\n",
       "      <td>...</td>\n",
       "      <td>...</td>\n",
       "      <td>...</td>\n",
       "      <td>...</td>\n",
       "    </tr>\n",
       "    <tr>\n",
       "      <th>419650</th>\n",
       "      <td>NaN</td>\n",
       "      <td>23/11/2020</td>\n",
       "      <td>NaN</td>\n",
       "      <td>NaN</td>\n",
       "      <td>NaN</td>\n",
       "      <td>NaN</td>\n",
       "      <td>NaN</td>\n",
       "      <td>NaN</td>\n",
       "      <td>23.0</td>\n",
       "      <td>11.0</td>\n",
       "      <td>2020.0</td>\n",
       "    </tr>\n",
       "    <tr>\n",
       "      <th>419651</th>\n",
       "      <td>NaN</td>\n",
       "      <td>23/11/2020</td>\n",
       "      <td>NaN</td>\n",
       "      <td>NaN</td>\n",
       "      <td>NaN</td>\n",
       "      <td>NaN</td>\n",
       "      <td>NaN</td>\n",
       "      <td>NaN</td>\n",
       "      <td>23.0</td>\n",
       "      <td>11.0</td>\n",
       "      <td>2020.0</td>\n",
       "    </tr>\n",
       "    <tr>\n",
       "      <th>419652</th>\n",
       "      <td>NaN</td>\n",
       "      <td>23/11/2020</td>\n",
       "      <td>NaN</td>\n",
       "      <td>NaN</td>\n",
       "      <td>NaN</td>\n",
       "      <td>NaN</td>\n",
       "      <td>NaN</td>\n",
       "      <td>NaN</td>\n",
       "      <td>23.0</td>\n",
       "      <td>11.0</td>\n",
       "      <td>2020.0</td>\n",
       "    </tr>\n",
       "    <tr>\n",
       "      <th>419653</th>\n",
       "      <td>NaN</td>\n",
       "      <td>23/11/2020</td>\n",
       "      <td>NaN</td>\n",
       "      <td>NaN</td>\n",
       "      <td>NaN</td>\n",
       "      <td>NaN</td>\n",
       "      <td>NaN</td>\n",
       "      <td>NaN</td>\n",
       "      <td>23.0</td>\n",
       "      <td>11.0</td>\n",
       "      <td>2020.0</td>\n",
       "    </tr>\n",
       "    <tr>\n",
       "      <th>419654</th>\n",
       "      <td>NaN</td>\n",
       "      <td>23/11/2020</td>\n",
       "      <td>NaN</td>\n",
       "      <td>NaN</td>\n",
       "      <td>NaN</td>\n",
       "      <td>NaN</td>\n",
       "      <td>NaN</td>\n",
       "      <td>NaN</td>\n",
       "      <td>23.0</td>\n",
       "      <td>11.0</td>\n",
       "      <td>2020.0</td>\n",
       "    </tr>\n",
       "  </tbody>\n",
       "</table>\n",
       "<p>419655 rows × 11 columns</p>\n",
       "</div>"
      ],
      "text/plain": [
       "        Num Cases Date Announced Age Bracket Gender             Detected City  \\\n",
       "0             1.0     30/01/2020          20      F                  Thrissur   \n",
       "1             1.0     02/02/2020         NaN    NaN                 Alappuzha   \n",
       "2             1.0     03/02/2020         NaN    NaN                 Kasaragod   \n",
       "3             1.0     02/03/2020          45      M  East Delhi (Mayur Vihar)   \n",
       "4             1.0     02/03/2020          24      M                 Hyderabad   \n",
       "...           ...            ...         ...    ...                       ...   \n",
       "419650        NaN     23/11/2020         NaN    NaN                       NaN   \n",
       "419651        NaN     23/11/2020         NaN    NaN                       NaN   \n",
       "419652        NaN     23/11/2020         NaN    NaN                       NaN   \n",
       "419653        NaN     23/11/2020         NaN    NaN                       NaN   \n",
       "419654        NaN     23/11/2020         NaN    NaN                       NaN   \n",
       "\n",
       "       Detected District Detected State Current Status   Day  Month    Year  \n",
       "0               Thrissur         Kerala      Recovered  30.0    1.0  2020.0  \n",
       "1              Alappuzha         Kerala      Recovered   2.0    2.0  2020.0  \n",
       "2              Kasaragod         Kerala      Recovered   3.0    2.0  2020.0  \n",
       "3             East Delhi          Delhi      Recovered   2.0    3.0  2020.0  \n",
       "4              Hyderabad      Telangana      Recovered   2.0    3.0  2020.0  \n",
       "...                  ...            ...            ...   ...    ...     ...  \n",
       "419650               NaN            NaN            NaN  23.0   11.0  2020.0  \n",
       "419651               NaN            NaN            NaN  23.0   11.0  2020.0  \n",
       "419652               NaN            NaN            NaN  23.0   11.0  2020.0  \n",
       "419653               NaN            NaN            NaN  23.0   11.0  2020.0  \n",
       "419654               NaN            NaN            NaN  23.0   11.0  2020.0  \n",
       "\n",
       "[419655 rows x 11 columns]"
      ]
     },
     "execution_count": 4,
     "metadata": {},
     "output_type": "execute_result"
    }
   ],
   "source": [
    "data = df.iloc[:,1:]\n",
    "data"
   ]
  },
  {
   "cell_type": "markdown",
   "metadata": {},
   "source": [
    "#### Inspect the Dataframe"
   ]
  },
  {
   "cell_type": "code",
   "execution_count": 26,
   "metadata": {},
   "outputs": [
    {
     "data": {
      "text/html": [
       "<div>\n",
       "<style scoped>\n",
       "    .dataframe tbody tr th:only-of-type {\n",
       "        vertical-align: middle;\n",
       "    }\n",
       "\n",
       "    .dataframe tbody tr th {\n",
       "        vertical-align: top;\n",
       "    }\n",
       "\n",
       "    .dataframe thead th {\n",
       "        text-align: right;\n",
       "    }\n",
       "</style>\n",
       "<table border=\"1\" class=\"dataframe\">\n",
       "  <thead>\n",
       "    <tr style=\"text-align: right;\">\n",
       "      <th></th>\n",
       "      <th>Num Cases</th>\n",
       "      <th>Date Announced</th>\n",
       "      <th>Age Bracket</th>\n",
       "      <th>Gender</th>\n",
       "      <th>Detected City</th>\n",
       "      <th>Detected District</th>\n",
       "      <th>Detected State</th>\n",
       "      <th>Current Status</th>\n",
       "      <th>Day</th>\n",
       "      <th>Month</th>\n",
       "      <th>Year</th>\n",
       "    </tr>\n",
       "  </thead>\n",
       "  <tbody>\n",
       "    <tr>\n",
       "      <th>0</th>\n",
       "      <td>1.0</td>\n",
       "      <td>30/01/2020</td>\n",
       "      <td>20</td>\n",
       "      <td>F</td>\n",
       "      <td>Thrissur</td>\n",
       "      <td>Thrissur</td>\n",
       "      <td>Kerala</td>\n",
       "      <td>Recovered</td>\n",
       "      <td>30.0</td>\n",
       "      <td>1.0</td>\n",
       "      <td>2020.0</td>\n",
       "    </tr>\n",
       "    <tr>\n",
       "      <th>1</th>\n",
       "      <td>1.0</td>\n",
       "      <td>02/02/2020</td>\n",
       "      <td>NaN</td>\n",
       "      <td>NaN</td>\n",
       "      <td>Alappuzha</td>\n",
       "      <td>Alappuzha</td>\n",
       "      <td>Kerala</td>\n",
       "      <td>Recovered</td>\n",
       "      <td>2.0</td>\n",
       "      <td>2.0</td>\n",
       "      <td>2020.0</td>\n",
       "    </tr>\n",
       "    <tr>\n",
       "      <th>2</th>\n",
       "      <td>1.0</td>\n",
       "      <td>03/02/2020</td>\n",
       "      <td>NaN</td>\n",
       "      <td>NaN</td>\n",
       "      <td>Kasaragod</td>\n",
       "      <td>Kasaragod</td>\n",
       "      <td>Kerala</td>\n",
       "      <td>Recovered</td>\n",
       "      <td>3.0</td>\n",
       "      <td>2.0</td>\n",
       "      <td>2020.0</td>\n",
       "    </tr>\n",
       "    <tr>\n",
       "      <th>3</th>\n",
       "      <td>1.0</td>\n",
       "      <td>02/03/2020</td>\n",
       "      <td>45</td>\n",
       "      <td>M</td>\n",
       "      <td>East Delhi (Mayur Vihar)</td>\n",
       "      <td>East Delhi</td>\n",
       "      <td>Delhi</td>\n",
       "      <td>Recovered</td>\n",
       "      <td>2.0</td>\n",
       "      <td>3.0</td>\n",
       "      <td>2020.0</td>\n",
       "    </tr>\n",
       "    <tr>\n",
       "      <th>4</th>\n",
       "      <td>1.0</td>\n",
       "      <td>02/03/2020</td>\n",
       "      <td>24</td>\n",
       "      <td>M</td>\n",
       "      <td>Hyderabad</td>\n",
       "      <td>Hyderabad</td>\n",
       "      <td>Telangana</td>\n",
       "      <td>Recovered</td>\n",
       "      <td>2.0</td>\n",
       "      <td>3.0</td>\n",
       "      <td>2020.0</td>\n",
       "    </tr>\n",
       "  </tbody>\n",
       "</table>\n",
       "</div>"
      ],
      "text/plain": [
       "   Num Cases Date Announced Age Bracket Gender             Detected City  \\\n",
       "0        1.0     30/01/2020          20      F                  Thrissur   \n",
       "1        1.0     02/02/2020         NaN    NaN                 Alappuzha   \n",
       "2        1.0     03/02/2020         NaN    NaN                 Kasaragod   \n",
       "3        1.0     02/03/2020          45      M  East Delhi (Mayur Vihar)   \n",
       "4        1.0     02/03/2020          24      M                 Hyderabad   \n",
       "\n",
       "  Detected District Detected State Current Status   Day  Month    Year  \n",
       "0          Thrissur         Kerala      Recovered  30.0    1.0  2020.0  \n",
       "1         Alappuzha         Kerala      Recovered   2.0    2.0  2020.0  \n",
       "2         Kasaragod         Kerala      Recovered   3.0    2.0  2020.0  \n",
       "3        East Delhi          Delhi      Recovered   2.0    3.0  2020.0  \n",
       "4         Hyderabad      Telangana      Recovered   2.0    3.0  2020.0  "
      ]
     },
     "execution_count": 26,
     "metadata": {},
     "output_type": "execute_result"
    }
   ],
   "source": [
    "data.head()"
   ]
  },
  {
   "cell_type": "code",
   "execution_count": 27,
   "metadata": {},
   "outputs": [
    {
     "data": {
      "text/html": [
       "<div>\n",
       "<style scoped>\n",
       "    .dataframe tbody tr th:only-of-type {\n",
       "        vertical-align: middle;\n",
       "    }\n",
       "\n",
       "    .dataframe tbody tr th {\n",
       "        vertical-align: top;\n",
       "    }\n",
       "\n",
       "    .dataframe thead th {\n",
       "        text-align: right;\n",
       "    }\n",
       "</style>\n",
       "<table border=\"1\" class=\"dataframe\">\n",
       "  <thead>\n",
       "    <tr style=\"text-align: right;\">\n",
       "      <th></th>\n",
       "      <th>Num Cases</th>\n",
       "      <th>Date Announced</th>\n",
       "      <th>Age Bracket</th>\n",
       "      <th>Gender</th>\n",
       "      <th>Detected City</th>\n",
       "      <th>Detected District</th>\n",
       "      <th>Detected State</th>\n",
       "      <th>Current Status</th>\n",
       "      <th>Day</th>\n",
       "      <th>Month</th>\n",
       "      <th>Year</th>\n",
       "    </tr>\n",
       "  </thead>\n",
       "  <tbody>\n",
       "    <tr>\n",
       "      <th>0</th>\n",
       "      <td>1.0</td>\n",
       "      <td>30/01/2020</td>\n",
       "      <td>20</td>\n",
       "      <td>F</td>\n",
       "      <td>Thrissur</td>\n",
       "      <td>Thrissur</td>\n",
       "      <td>Kerala</td>\n",
       "      <td>Recovered</td>\n",
       "      <td>30.0</td>\n",
       "      <td>1.0</td>\n",
       "      <td>2020.0</td>\n",
       "    </tr>\n",
       "    <tr>\n",
       "      <th>1</th>\n",
       "      <td>1.0</td>\n",
       "      <td>02/02/2020</td>\n",
       "      <td>NaN</td>\n",
       "      <td>NaN</td>\n",
       "      <td>Alappuzha</td>\n",
       "      <td>Alappuzha</td>\n",
       "      <td>Kerala</td>\n",
       "      <td>Recovered</td>\n",
       "      <td>2.0</td>\n",
       "      <td>2.0</td>\n",
       "      <td>2020.0</td>\n",
       "    </tr>\n",
       "    <tr>\n",
       "      <th>2</th>\n",
       "      <td>1.0</td>\n",
       "      <td>03/02/2020</td>\n",
       "      <td>NaN</td>\n",
       "      <td>NaN</td>\n",
       "      <td>Kasaragod</td>\n",
       "      <td>Kasaragod</td>\n",
       "      <td>Kerala</td>\n",
       "      <td>Recovered</td>\n",
       "      <td>3.0</td>\n",
       "      <td>2.0</td>\n",
       "      <td>2020.0</td>\n",
       "    </tr>\n",
       "    <tr>\n",
       "      <th>3</th>\n",
       "      <td>1.0</td>\n",
       "      <td>02/03/2020</td>\n",
       "      <td>45</td>\n",
       "      <td>M</td>\n",
       "      <td>East Delhi (Mayur Vihar)</td>\n",
       "      <td>East Delhi</td>\n",
       "      <td>Delhi</td>\n",
       "      <td>Recovered</td>\n",
       "      <td>2.0</td>\n",
       "      <td>3.0</td>\n",
       "      <td>2020.0</td>\n",
       "    </tr>\n",
       "    <tr>\n",
       "      <th>4</th>\n",
       "      <td>1.0</td>\n",
       "      <td>02/03/2020</td>\n",
       "      <td>24</td>\n",
       "      <td>M</td>\n",
       "      <td>Hyderabad</td>\n",
       "      <td>Hyderabad</td>\n",
       "      <td>Telangana</td>\n",
       "      <td>Recovered</td>\n",
       "      <td>2.0</td>\n",
       "      <td>3.0</td>\n",
       "      <td>2020.0</td>\n",
       "    </tr>\n",
       "    <tr>\n",
       "      <th>5</th>\n",
       "      <td>1.0</td>\n",
       "      <td>03/03/2020</td>\n",
       "      <td>69</td>\n",
       "      <td>M</td>\n",
       "      <td>Jaipur</td>\n",
       "      <td>Italians</td>\n",
       "      <td>Rajasthan</td>\n",
       "      <td>Recovered</td>\n",
       "      <td>3.0</td>\n",
       "      <td>3.0</td>\n",
       "      <td>2020.0</td>\n",
       "    </tr>\n",
       "    <tr>\n",
       "      <th>6</th>\n",
       "      <td>1.0</td>\n",
       "      <td>04/03/2020</td>\n",
       "      <td>55</td>\n",
       "      <td>NaN</td>\n",
       "      <td>Gurugram</td>\n",
       "      <td>Italians</td>\n",
       "      <td>Haryana</td>\n",
       "      <td>Recovered</td>\n",
       "      <td>4.0</td>\n",
       "      <td>3.0</td>\n",
       "      <td>2020.0</td>\n",
       "    </tr>\n",
       "    <tr>\n",
       "      <th>7</th>\n",
       "      <td>1.0</td>\n",
       "      <td>04/03/2020</td>\n",
       "      <td>55</td>\n",
       "      <td>NaN</td>\n",
       "      <td>Gurugram</td>\n",
       "      <td>Italians</td>\n",
       "      <td>Haryana</td>\n",
       "      <td>Recovered</td>\n",
       "      <td>4.0</td>\n",
       "      <td>3.0</td>\n",
       "      <td>2020.0</td>\n",
       "    </tr>\n",
       "    <tr>\n",
       "      <th>8</th>\n",
       "      <td>1.0</td>\n",
       "      <td>04/03/2020</td>\n",
       "      <td>55</td>\n",
       "      <td>NaN</td>\n",
       "      <td>Gurugram</td>\n",
       "      <td>Italians</td>\n",
       "      <td>Haryana</td>\n",
       "      <td>Recovered</td>\n",
       "      <td>4.0</td>\n",
       "      <td>3.0</td>\n",
       "      <td>2020.0</td>\n",
       "    </tr>\n",
       "    <tr>\n",
       "      <th>9</th>\n",
       "      <td>1.0</td>\n",
       "      <td>04/03/2020</td>\n",
       "      <td>55</td>\n",
       "      <td>NaN</td>\n",
       "      <td>Gurugram</td>\n",
       "      <td>Italians</td>\n",
       "      <td>Haryana</td>\n",
       "      <td>Recovered</td>\n",
       "      <td>4.0</td>\n",
       "      <td>3.0</td>\n",
       "      <td>2020.0</td>\n",
       "    </tr>\n",
       "    <tr>\n",
       "      <th>10</th>\n",
       "      <td>1.0</td>\n",
       "      <td>04/03/2020</td>\n",
       "      <td>55</td>\n",
       "      <td>NaN</td>\n",
       "      <td>Gurugram</td>\n",
       "      <td>Italians</td>\n",
       "      <td>Haryana</td>\n",
       "      <td>Recovered</td>\n",
       "      <td>4.0</td>\n",
       "      <td>3.0</td>\n",
       "      <td>2020.0</td>\n",
       "    </tr>\n",
       "    <tr>\n",
       "      <th>11</th>\n",
       "      <td>1.0</td>\n",
       "      <td>04/03/2020</td>\n",
       "      <td>55</td>\n",
       "      <td>NaN</td>\n",
       "      <td>Gurugram</td>\n",
       "      <td>Italians</td>\n",
       "      <td>Haryana</td>\n",
       "      <td>Recovered</td>\n",
       "      <td>4.0</td>\n",
       "      <td>3.0</td>\n",
       "      <td>2020.0</td>\n",
       "    </tr>\n",
       "    <tr>\n",
       "      <th>12</th>\n",
       "      <td>1.0</td>\n",
       "      <td>04/03/2020</td>\n",
       "      <td>55</td>\n",
       "      <td>NaN</td>\n",
       "      <td>Gurugram</td>\n",
       "      <td>Italians</td>\n",
       "      <td>Haryana</td>\n",
       "      <td>Recovered</td>\n",
       "      <td>4.0</td>\n",
       "      <td>3.0</td>\n",
       "      <td>2020.0</td>\n",
       "    </tr>\n",
       "    <tr>\n",
       "      <th>13</th>\n",
       "      <td>1.0</td>\n",
       "      <td>04/03/2020</td>\n",
       "      <td>55</td>\n",
       "      <td>NaN</td>\n",
       "      <td>Gurugram</td>\n",
       "      <td>Italians</td>\n",
       "      <td>Haryana</td>\n",
       "      <td>Recovered</td>\n",
       "      <td>4.0</td>\n",
       "      <td>3.0</td>\n",
       "      <td>2020.0</td>\n",
       "    </tr>\n",
       "    <tr>\n",
       "      <th>14</th>\n",
       "      <td>1.0</td>\n",
       "      <td>04/03/2020</td>\n",
       "      <td>55</td>\n",
       "      <td>NaN</td>\n",
       "      <td>Gurugram</td>\n",
       "      <td>Italians</td>\n",
       "      <td>Haryana</td>\n",
       "      <td>Recovered</td>\n",
       "      <td>4.0</td>\n",
       "      <td>3.0</td>\n",
       "      <td>2020.0</td>\n",
       "    </tr>\n",
       "    <tr>\n",
       "      <th>15</th>\n",
       "      <td>1.0</td>\n",
       "      <td>04/03/2020</td>\n",
       "      <td>55</td>\n",
       "      <td>NaN</td>\n",
       "      <td>Gurugram</td>\n",
       "      <td>Italians</td>\n",
       "      <td>Haryana</td>\n",
       "      <td>Recovered</td>\n",
       "      <td>4.0</td>\n",
       "      <td>3.0</td>\n",
       "      <td>2020.0</td>\n",
       "    </tr>\n",
       "    <tr>\n",
       "      <th>16</th>\n",
       "      <td>1.0</td>\n",
       "      <td>04/03/2020</td>\n",
       "      <td>55</td>\n",
       "      <td>NaN</td>\n",
       "      <td>Gurugram</td>\n",
       "      <td>Italians</td>\n",
       "      <td>Haryana</td>\n",
       "      <td>Recovered</td>\n",
       "      <td>4.0</td>\n",
       "      <td>3.0</td>\n",
       "      <td>2020.0</td>\n",
       "    </tr>\n",
       "    <tr>\n",
       "      <th>17</th>\n",
       "      <td>1.0</td>\n",
       "      <td>04/03/2020</td>\n",
       "      <td>55</td>\n",
       "      <td>NaN</td>\n",
       "      <td>Gurugram</td>\n",
       "      <td>Italians</td>\n",
       "      <td>Haryana</td>\n",
       "      <td>Recovered</td>\n",
       "      <td>4.0</td>\n",
       "      <td>3.0</td>\n",
       "      <td>2020.0</td>\n",
       "    </tr>\n",
       "    <tr>\n",
       "      <th>18</th>\n",
       "      <td>1.0</td>\n",
       "      <td>04/03/2020</td>\n",
       "      <td>55</td>\n",
       "      <td>NaN</td>\n",
       "      <td>Gurugram</td>\n",
       "      <td>Italians</td>\n",
       "      <td>Haryana</td>\n",
       "      <td>Hospitalized</td>\n",
       "      <td>4.0</td>\n",
       "      <td>3.0</td>\n",
       "      <td>2020.0</td>\n",
       "    </tr>\n",
       "    <tr>\n",
       "      <th>19</th>\n",
       "      <td>1.0</td>\n",
       "      <td>04/03/2020</td>\n",
       "      <td>55</td>\n",
       "      <td>NaN</td>\n",
       "      <td>Gurugram</td>\n",
       "      <td>Italians</td>\n",
       "      <td>Haryana</td>\n",
       "      <td>Hospitalized</td>\n",
       "      <td>4.0</td>\n",
       "      <td>3.0</td>\n",
       "      <td>2020.0</td>\n",
       "    </tr>\n",
       "  </tbody>\n",
       "</table>\n",
       "</div>"
      ],
      "text/plain": [
       "    Num Cases Date Announced Age Bracket Gender             Detected City  \\\n",
       "0         1.0     30/01/2020          20      F                  Thrissur   \n",
       "1         1.0     02/02/2020         NaN    NaN                 Alappuzha   \n",
       "2         1.0     03/02/2020         NaN    NaN                 Kasaragod   \n",
       "3         1.0     02/03/2020          45      M  East Delhi (Mayur Vihar)   \n",
       "4         1.0     02/03/2020          24      M                 Hyderabad   \n",
       "5         1.0     03/03/2020          69      M                    Jaipur   \n",
       "6         1.0     04/03/2020          55    NaN                  Gurugram   \n",
       "7         1.0     04/03/2020          55    NaN                  Gurugram   \n",
       "8         1.0     04/03/2020          55    NaN                  Gurugram   \n",
       "9         1.0     04/03/2020          55    NaN                  Gurugram   \n",
       "10        1.0     04/03/2020          55    NaN                  Gurugram   \n",
       "11        1.0     04/03/2020          55    NaN                  Gurugram   \n",
       "12        1.0     04/03/2020          55    NaN                  Gurugram   \n",
       "13        1.0     04/03/2020          55    NaN                  Gurugram   \n",
       "14        1.0     04/03/2020          55    NaN                  Gurugram   \n",
       "15        1.0     04/03/2020          55    NaN                  Gurugram   \n",
       "16        1.0     04/03/2020          55    NaN                  Gurugram   \n",
       "17        1.0     04/03/2020          55    NaN                  Gurugram   \n",
       "18        1.0     04/03/2020          55    NaN                  Gurugram   \n",
       "19        1.0     04/03/2020          55    NaN                  Gurugram   \n",
       "\n",
       "   Detected District Detected State Current Status   Day  Month    Year  \n",
       "0           Thrissur         Kerala      Recovered  30.0    1.0  2020.0  \n",
       "1          Alappuzha         Kerala      Recovered   2.0    2.0  2020.0  \n",
       "2          Kasaragod         Kerala      Recovered   3.0    2.0  2020.0  \n",
       "3         East Delhi          Delhi      Recovered   2.0    3.0  2020.0  \n",
       "4          Hyderabad      Telangana      Recovered   2.0    3.0  2020.0  \n",
       "5           Italians      Rajasthan      Recovered   3.0    3.0  2020.0  \n",
       "6           Italians        Haryana      Recovered   4.0    3.0  2020.0  \n",
       "7           Italians        Haryana      Recovered   4.0    3.0  2020.0  \n",
       "8           Italians        Haryana      Recovered   4.0    3.0  2020.0  \n",
       "9           Italians        Haryana      Recovered   4.0    3.0  2020.0  \n",
       "10          Italians        Haryana      Recovered   4.0    3.0  2020.0  \n",
       "11          Italians        Haryana      Recovered   4.0    3.0  2020.0  \n",
       "12          Italians        Haryana      Recovered   4.0    3.0  2020.0  \n",
       "13          Italians        Haryana      Recovered   4.0    3.0  2020.0  \n",
       "14          Italians        Haryana      Recovered   4.0    3.0  2020.0  \n",
       "15          Italians        Haryana      Recovered   4.0    3.0  2020.0  \n",
       "16          Italians        Haryana      Recovered   4.0    3.0  2020.0  \n",
       "17          Italians        Haryana      Recovered   4.0    3.0  2020.0  \n",
       "18          Italians        Haryana   Hospitalized   4.0    3.0  2020.0  \n",
       "19          Italians        Haryana   Hospitalized   4.0    3.0  2020.0  "
      ]
     },
     "execution_count": 27,
     "metadata": {},
     "output_type": "execute_result"
    }
   ],
   "source": [
    "data.head(20)"
   ]
  },
  {
   "cell_type": "code",
   "execution_count": 28,
   "metadata": {},
   "outputs": [
    {
     "data": {
      "text/html": [
       "<div>\n",
       "<style scoped>\n",
       "    .dataframe tbody tr th:only-of-type {\n",
       "        vertical-align: middle;\n",
       "    }\n",
       "\n",
       "    .dataframe tbody tr th {\n",
       "        vertical-align: top;\n",
       "    }\n",
       "\n",
       "    .dataframe thead th {\n",
       "        text-align: right;\n",
       "    }\n",
       "</style>\n",
       "<table border=\"1\" class=\"dataframe\">\n",
       "  <thead>\n",
       "    <tr style=\"text-align: right;\">\n",
       "      <th></th>\n",
       "      <th>Num Cases</th>\n",
       "      <th>Date Announced</th>\n",
       "      <th>Age Bracket</th>\n",
       "      <th>Gender</th>\n",
       "      <th>Detected City</th>\n",
       "      <th>Detected District</th>\n",
       "      <th>Detected State</th>\n",
       "      <th>Current Status</th>\n",
       "      <th>Day</th>\n",
       "      <th>Month</th>\n",
       "      <th>Year</th>\n",
       "    </tr>\n",
       "  </thead>\n",
       "  <tbody>\n",
       "    <tr>\n",
       "      <th>419650</th>\n",
       "      <td>NaN</td>\n",
       "      <td>23/11/2020</td>\n",
       "      <td>NaN</td>\n",
       "      <td>NaN</td>\n",
       "      <td>NaN</td>\n",
       "      <td>NaN</td>\n",
       "      <td>NaN</td>\n",
       "      <td>NaN</td>\n",
       "      <td>23.0</td>\n",
       "      <td>11.0</td>\n",
       "      <td>2020.0</td>\n",
       "    </tr>\n",
       "    <tr>\n",
       "      <th>419651</th>\n",
       "      <td>NaN</td>\n",
       "      <td>23/11/2020</td>\n",
       "      <td>NaN</td>\n",
       "      <td>NaN</td>\n",
       "      <td>NaN</td>\n",
       "      <td>NaN</td>\n",
       "      <td>NaN</td>\n",
       "      <td>NaN</td>\n",
       "      <td>23.0</td>\n",
       "      <td>11.0</td>\n",
       "      <td>2020.0</td>\n",
       "    </tr>\n",
       "    <tr>\n",
       "      <th>419652</th>\n",
       "      <td>NaN</td>\n",
       "      <td>23/11/2020</td>\n",
       "      <td>NaN</td>\n",
       "      <td>NaN</td>\n",
       "      <td>NaN</td>\n",
       "      <td>NaN</td>\n",
       "      <td>NaN</td>\n",
       "      <td>NaN</td>\n",
       "      <td>23.0</td>\n",
       "      <td>11.0</td>\n",
       "      <td>2020.0</td>\n",
       "    </tr>\n",
       "    <tr>\n",
       "      <th>419653</th>\n",
       "      <td>NaN</td>\n",
       "      <td>23/11/2020</td>\n",
       "      <td>NaN</td>\n",
       "      <td>NaN</td>\n",
       "      <td>NaN</td>\n",
       "      <td>NaN</td>\n",
       "      <td>NaN</td>\n",
       "      <td>NaN</td>\n",
       "      <td>23.0</td>\n",
       "      <td>11.0</td>\n",
       "      <td>2020.0</td>\n",
       "    </tr>\n",
       "    <tr>\n",
       "      <th>419654</th>\n",
       "      <td>NaN</td>\n",
       "      <td>23/11/2020</td>\n",
       "      <td>NaN</td>\n",
       "      <td>NaN</td>\n",
       "      <td>NaN</td>\n",
       "      <td>NaN</td>\n",
       "      <td>NaN</td>\n",
       "      <td>NaN</td>\n",
       "      <td>23.0</td>\n",
       "      <td>11.0</td>\n",
       "      <td>2020.0</td>\n",
       "    </tr>\n",
       "  </tbody>\n",
       "</table>\n",
       "</div>"
      ],
      "text/plain": [
       "        Num Cases Date Announced Age Bracket Gender Detected City  \\\n",
       "419650        NaN     23/11/2020         NaN    NaN           NaN   \n",
       "419651        NaN     23/11/2020         NaN    NaN           NaN   \n",
       "419652        NaN     23/11/2020         NaN    NaN           NaN   \n",
       "419653        NaN     23/11/2020         NaN    NaN           NaN   \n",
       "419654        NaN     23/11/2020         NaN    NaN           NaN   \n",
       "\n",
       "       Detected District Detected State Current Status   Day  Month    Year  \n",
       "419650               NaN            NaN            NaN  23.0   11.0  2020.0  \n",
       "419651               NaN            NaN            NaN  23.0   11.0  2020.0  \n",
       "419652               NaN            NaN            NaN  23.0   11.0  2020.0  \n",
       "419653               NaN            NaN            NaN  23.0   11.0  2020.0  \n",
       "419654               NaN            NaN            NaN  23.0   11.0  2020.0  "
      ]
     },
     "execution_count": 28,
     "metadata": {},
     "output_type": "execute_result"
    }
   ],
   "source": [
    "data.tail()"
   ]
  },
  {
   "cell_type": "code",
   "execution_count": 5,
   "metadata": {},
   "outputs": [
    {
     "name": "stdout",
     "output_type": "stream",
     "text": [
      "<class 'pandas.core.frame.DataFrame'>\n",
      "RangeIndex: 419655 entries, 0 to 419654\n",
      "Data columns (total 11 columns):\n",
      " #   Column             Non-Null Count   Dtype  \n",
      "---  ------             --------------   -----  \n",
      " 0   Num Cases          419300 non-null  float64\n",
      " 1   Date Announced     419648 non-null  object \n",
      " 2   Age Bracket        116563 non-null  object \n",
      " 3   Gender             118862 non-null  object \n",
      " 4   Detected City      14384 non-null   object \n",
      " 5   Detected District  407639 non-null  object \n",
      " 6   Detected State     419297 non-null  object \n",
      " 7   Current Status     419306 non-null  object \n",
      " 8   Day                419648 non-null  float64\n",
      " 9   Month              419648 non-null  float64\n",
      " 10  Year               419648 non-null  float64\n",
      "dtypes: float64(4), object(7)\n",
      "memory usage: 35.2+ MB\n"
     ]
    }
   ],
   "source": [
    "data.info()"
   ]
  },
  {
   "cell_type": "code",
   "execution_count": 29,
   "metadata": {},
   "outputs": [
    {
     "data": {
      "text/html": [
       "<div>\n",
       "<style scoped>\n",
       "    .dataframe tbody tr th:only-of-type {\n",
       "        vertical-align: middle;\n",
       "    }\n",
       "\n",
       "    .dataframe tbody tr th {\n",
       "        vertical-align: top;\n",
       "    }\n",
       "\n",
       "    .dataframe thead th {\n",
       "        text-align: right;\n",
       "    }\n",
       "</style>\n",
       "<table border=\"1\" class=\"dataframe\">\n",
       "  <thead>\n",
       "    <tr style=\"text-align: right;\">\n",
       "      <th></th>\n",
       "      <th>Num Cases</th>\n",
       "      <th>Day</th>\n",
       "      <th>Month</th>\n",
       "      <th>Year</th>\n",
       "    </tr>\n",
       "  </thead>\n",
       "  <tbody>\n",
       "    <tr>\n",
       "      <th>count</th>\n",
       "      <td>419300.000000</td>\n",
       "      <td>419648.000000</td>\n",
       "      <td>419648.000000</td>\n",
       "      <td>419648.0</td>\n",
       "    </tr>\n",
       "    <tr>\n",
       "      <th>mean</th>\n",
       "      <td>42.538793</td>\n",
       "      <td>15.682694</td>\n",
       "      <td>7.467211</td>\n",
       "      <td>2020.0</td>\n",
       "    </tr>\n",
       "    <tr>\n",
       "      <th>std</th>\n",
       "      <td>249.007899</td>\n",
       "      <td>8.379687</td>\n",
       "      <td>1.952536</td>\n",
       "      <td>0.0</td>\n",
       "    </tr>\n",
       "    <tr>\n",
       "      <th>min</th>\n",
       "      <td>-16689.000000</td>\n",
       "      <td>1.000000</td>\n",
       "      <td>1.000000</td>\n",
       "      <td>2020.0</td>\n",
       "    </tr>\n",
       "    <tr>\n",
       "      <th>25%</th>\n",
       "      <td>1.000000</td>\n",
       "      <td>9.000000</td>\n",
       "      <td>6.000000</td>\n",
       "      <td>2020.0</td>\n",
       "    </tr>\n",
       "    <tr>\n",
       "      <th>50%</th>\n",
       "      <td>1.000000</td>\n",
       "      <td>16.000000</td>\n",
       "      <td>7.000000</td>\n",
       "      <td>2020.0</td>\n",
       "    </tr>\n",
       "    <tr>\n",
       "      <th>75%</th>\n",
       "      <td>21.000000</td>\n",
       "      <td>22.000000</td>\n",
       "      <td>9.000000</td>\n",
       "      <td>2020.0</td>\n",
       "    </tr>\n",
       "    <tr>\n",
       "      <th>max</th>\n",
       "      <td>17323.000000</td>\n",
       "      <td>31.000000</td>\n",
       "      <td>11.000000</td>\n",
       "      <td>2020.0</td>\n",
       "    </tr>\n",
       "  </tbody>\n",
       "</table>\n",
       "</div>"
      ],
      "text/plain": [
       "           Num Cases            Day          Month      Year\n",
       "count  419300.000000  419648.000000  419648.000000  419648.0\n",
       "mean       42.538793      15.682694       7.467211    2020.0\n",
       "std       249.007899       8.379687       1.952536       0.0\n",
       "min    -16689.000000       1.000000       1.000000    2020.0\n",
       "25%         1.000000       9.000000       6.000000    2020.0\n",
       "50%         1.000000      16.000000       7.000000    2020.0\n",
       "75%        21.000000      22.000000       9.000000    2020.0\n",
       "max     17323.000000      31.000000      11.000000    2020.0"
      ]
     },
     "execution_count": 29,
     "metadata": {},
     "output_type": "execute_result"
    }
   ],
   "source": [
    "data.describe()"
   ]
  },
  {
   "cell_type": "code",
   "execution_count": 30,
   "metadata": {},
   "outputs": [
    {
     "data": {
      "text/html": [
       "<div>\n",
       "<style scoped>\n",
       "    .dataframe tbody tr th:only-of-type {\n",
       "        vertical-align: middle;\n",
       "    }\n",
       "\n",
       "    .dataframe tbody tr th {\n",
       "        vertical-align: top;\n",
       "    }\n",
       "\n",
       "    .dataframe thead th {\n",
       "        text-align: right;\n",
       "    }\n",
       "</style>\n",
       "<table border=\"1\" class=\"dataframe\">\n",
       "  <thead>\n",
       "    <tr style=\"text-align: right;\">\n",
       "      <th></th>\n",
       "      <th>Date Announced</th>\n",
       "      <th>Age Bracket</th>\n",
       "      <th>Gender</th>\n",
       "      <th>Detected City</th>\n",
       "      <th>Detected District</th>\n",
       "      <th>Detected State</th>\n",
       "      <th>Current Status</th>\n",
       "    </tr>\n",
       "  </thead>\n",
       "  <tbody>\n",
       "    <tr>\n",
       "      <th>count</th>\n",
       "      <td>419648</td>\n",
       "      <td>116563</td>\n",
       "      <td>118862</td>\n",
       "      <td>14384</td>\n",
       "      <td>407639</td>\n",
       "      <td>419297</td>\n",
       "      <td>419306</td>\n",
       "    </tr>\n",
       "    <tr>\n",
       "      <th>unique</th>\n",
       "      <td>270</td>\n",
       "      <td>333</td>\n",
       "      <td>6</td>\n",
       "      <td>2604</td>\n",
       "      <td>808</td>\n",
       "      <td>36</td>\n",
       "      <td>6</td>\n",
       "    </tr>\n",
       "    <tr>\n",
       "      <th>top</th>\n",
       "      <td>18/07/2020</td>\n",
       "      <td>30.0</td>\n",
       "      <td>M</td>\n",
       "      <td>Rishikesh</td>\n",
       "      <td>Bengaluru Urban</td>\n",
       "      <td>Karnataka</td>\n",
       "      <td>Hospitalized</td>\n",
       "    </tr>\n",
       "    <tr>\n",
       "      <th>freq</th>\n",
       "      <td>6884</td>\n",
       "      <td>1925</td>\n",
       "      <td>77851</td>\n",
       "      <td>258</td>\n",
       "      <td>45618</td>\n",
       "      <td>113575</td>\n",
       "      <td>253189</td>\n",
       "    </tr>\n",
       "  </tbody>\n",
       "</table>\n",
       "</div>"
      ],
      "text/plain": [
       "       Date Announced Age Bracket  Gender Detected City Detected District  \\\n",
       "count          419648      116563  118862         14384            407639   \n",
       "unique            270         333       6          2604               808   \n",
       "top        18/07/2020        30.0       M     Rishikesh   Bengaluru Urban   \n",
       "freq             6884        1925   77851           258             45618   \n",
       "\n",
       "       Detected State Current Status  \n",
       "count          419297         419306  \n",
       "unique             36              6  \n",
       "top         Karnataka   Hospitalized  \n",
       "freq           113575         253189  "
      ]
     },
     "execution_count": 30,
     "metadata": {},
     "output_type": "execute_result"
    }
   ],
   "source": [
    "data.describe(include = \"O\")"
   ]
  },
  {
   "cell_type": "code",
   "execution_count": null,
   "metadata": {},
   "outputs": [],
   "source": []
  },
  {
   "cell_type": "markdown",
   "metadata": {},
   "source": [
    "#### Dataframe attributes"
   ]
  },
  {
   "cell_type": "code",
   "execution_count": 31,
   "metadata": {},
   "outputs": [
    {
     "data": {
      "text/plain": [
       "(419655, 11)"
      ]
     },
     "execution_count": 31,
     "metadata": {},
     "output_type": "execute_result"
    }
   ],
   "source": [
    "data.shape"
   ]
  },
  {
   "cell_type": "code",
   "execution_count": 32,
   "metadata": {},
   "outputs": [
    {
     "data": {
      "text/plain": [
       "4616205"
      ]
     },
     "execution_count": 32,
     "metadata": {},
     "output_type": "execute_result"
    }
   ],
   "source": [
    "data.size"
   ]
  },
  {
   "cell_type": "code",
   "execution_count": 33,
   "metadata": {},
   "outputs": [
    {
     "data": {
      "text/plain": [
       "RangeIndex(start=0, stop=419655, step=1)"
      ]
     },
     "execution_count": 33,
     "metadata": {},
     "output_type": "execute_result"
    }
   ],
   "source": [
    "data.index"
   ]
  },
  {
   "cell_type": "code",
   "execution_count": 34,
   "metadata": {},
   "outputs": [
    {
     "data": {
      "text/plain": [
       "Index(['Num Cases', 'Date Announced', 'Age Bracket', 'Gender', 'Detected City',\n",
       "       'Detected District', 'Detected State', 'Current Status', 'Day', 'Month',\n",
       "       'Year'],\n",
       "      dtype='object')"
      ]
     },
     "execution_count": 34,
     "metadata": {},
     "output_type": "execute_result"
    }
   ],
   "source": [
    "data.columns"
   ]
  },
  {
   "cell_type": "code",
   "execution_count": null,
   "metadata": {},
   "outputs": [],
   "source": []
  },
  {
   "cell_type": "markdown",
   "metadata": {},
   "source": [
    "#### Inspect Null Values in each column"
   ]
  },
  {
   "cell_type": "code",
   "execution_count": 6,
   "metadata": {},
   "outputs": [
    {
     "data": {
      "text/plain": [
       "Date Announced            7\n",
       "Day                       7\n",
       "Month                     7\n",
       "Year                      7\n",
       "Current Status          349\n",
       "Num Cases               355\n",
       "Detected State          358\n",
       "Detected District     12016\n",
       "Gender               300793\n",
       "Age Bracket          303092\n",
       "Detected City        405271\n",
       "dtype: int64"
      ]
     },
     "execution_count": 6,
     "metadata": {},
     "output_type": "execute_result"
    }
   ],
   "source": [
    "#data.isnull()\n",
    "#data.isnull().sum(axis=0)\n",
    "data.isnull().sum(axis=0).sort_values()"
   ]
  },
  {
   "cell_type": "code",
   "execution_count": 7,
   "metadata": {},
   "outputs": [
    {
     "data": {
      "text/plain": [
       "Detected City        96.572423\n",
       "Age Bracket          72.224089\n",
       "Gender               71.676258\n",
       "Detected District     2.863304\n",
       "Detected State        0.085308\n",
       "Num Cases             0.084593\n",
       "Current Status        0.083164\n",
       "Year                  0.001668\n",
       "Month                 0.001668\n",
       "Day                   0.001668\n",
       "Date Announced        0.001668\n",
       "dtype: float64"
      ]
     },
     "execution_count": 7,
     "metadata": {},
     "output_type": "execute_result"
    }
   ],
   "source": [
    "# To find the missing data in terms of percentage\n",
    "data.isnull().sum(axis=0).sort_values(ascending=False)/len(data)*100"
   ]
  },
  {
   "cell_type": "code",
   "execution_count": 8,
   "metadata": {},
   "outputs": [
    {
     "data": {
      "text/plain": [
       "Detected City        96.57\n",
       "Age Bracket          72.22\n",
       "Gender               71.68\n",
       "Detected District     2.86\n",
       "Detected State        0.09\n",
       "Num Cases             0.08\n",
       "Current Status        0.08\n",
       "Year                  0.00\n",
       "Month                 0.00\n",
       "Day                   0.00\n",
       "Date Announced        0.00\n",
       "dtype: float64"
      ]
     },
     "execution_count": 8,
     "metadata": {},
     "output_type": "execute_result"
    }
   ],
   "source": [
    "# To round up to 2 decimal points\n",
    "val = data.isnull().sum(axis=0).sort_values(ascending=False)/len(data)*100\n",
    "round(val,2)"
   ]
  },
  {
   "cell_type": "markdown",
   "metadata": {},
   "source": [
    "#### Inspect Null Values in each row"
   ]
  },
  {
   "cell_type": "code",
   "execution_count": 9,
   "metadata": {},
   "outputs": [
    {
     "data": {
      "text/plain": [
       "0         0\n",
       "1         2\n",
       "2         2\n",
       "3         0\n",
       "4         0\n",
       "         ..\n",
       "419650    7\n",
       "419651    7\n",
       "419652    7\n",
       "419653    7\n",
       "419654    7\n",
       "Length: 419655, dtype: int64"
      ]
     },
     "execution_count": 9,
     "metadata": {},
     "output_type": "execute_result"
    }
   ],
   "source": [
    "data.isnull().sum(axis=1)"
   ]
  },
  {
   "cell_type": "code",
   "execution_count": 15,
   "metadata": {},
   "outputs": [
    {
     "data": {
      "text/plain": [
       "404952    11\n",
       "404953    11\n",
       "404954    11\n",
       "224898    11\n",
       "271479    11\n",
       "          ..\n",
       "271906     0\n",
       "271905     0\n",
       "271904     0\n",
       "271903     0\n",
       "0          0\n",
       "Length: 419655, dtype: int64"
      ]
     },
     "execution_count": 15,
     "metadata": {},
     "output_type": "execute_result"
    }
   ],
   "source": [
    "data.isnull().sum(axis=1).sort_values(ascending=False)"
   ]
  },
  {
   "cell_type": "markdown",
   "metadata": {},
   "source": [
    "#### Total Covid-19 cases month wise"
   ]
  },
  {
   "cell_type": "code",
   "execution_count": 16,
   "metadata": {},
   "outputs": [
    {
     "data": {
      "text/plain": [
       "Month\n",
       "1.0           1.0\n",
       "2.0           2.0\n",
       "3.0        1635.0\n",
       "4.0       36078.0\n",
       "5.0      242853.0\n",
       "6.0      663181.0\n",
       "7.0     1878471.0\n",
       "8.0     3761761.0\n",
       "9.0     5088546.0\n",
       "10.0    4116679.0\n",
       "11.0    2047309.0\n",
       "Name: Num Cases, dtype: float64"
      ]
     },
     "execution_count": 16,
     "metadata": {},
     "output_type": "execute_result"
    }
   ],
   "source": [
    "data.groupby('Month')['Num Cases'].sum()"
   ]
  },
  {
   "cell_type": "code",
   "execution_count": 20,
   "metadata": {},
   "outputs": [],
   "source": [
    "month_wise_hospitalized = data[data['Current Status'] == 'Hospitalized']"
   ]
  },
  {
   "cell_type": "code",
   "execution_count": 21,
   "metadata": {},
   "outputs": [
    {
     "data": {
      "text/plain": [
       "Month\n",
       "3.0        1431.0\n",
       "4.0       33209.0\n",
       "5.0      155781.0\n",
       "6.0      395143.0\n",
       "7.0     1111263.0\n",
       "8.0     1990886.0\n",
       "9.0     2622324.0\n",
       "10.0    1873130.0\n",
       "11.0     959532.0\n",
       "Name: Num Cases, dtype: float64"
      ]
     },
     "execution_count": 21,
     "metadata": {},
     "output_type": "execute_result"
    }
   ],
   "source": [
    "month_wise_hospitalized.groupby('Month')['Num Cases'].sum()"
   ]
  },
  {
   "cell_type": "code",
   "execution_count": 25,
   "metadata": {},
   "outputs": [
    {
     "data": {
      "image/png": "[encoded data removed]",
      "text/plain": [
       "<Figure size 432x288 with 1 Axes>"
      ]
     },
     "metadata": {
      "needs_background": "light"
     },
     "output_type": "display_data"
    }
   ],
   "source": [
    "month_wise_hospitalized.groupby('Month')['Num Cases'].sum().plot.bar()\n",
    "plt.show()"
   ]
  },
  {
   "cell_type": "markdown",
   "metadata": {},
   "source": [
    "#### Total Male/Female infected by corona virus"
   ]
  },
  {
   "cell_type": "code",
   "execution_count": 35,
   "metadata": {},
   "outputs": [
    {
     "data": {
      "text/plain": [
       "Gender\n",
       "F             41535.0\n",
       "Femal e           1.0\n",
       "M             78845.0\n",
       "M                 1.0\n",
       "M,                1.0\n",
       "Non-Binary       18.0\n",
       "Name: Num Cases, dtype: float64"
      ]
     },
     "execution_count": 35,
     "metadata": {},
     "output_type": "execute_result"
    }
   ],
   "source": [
    "data.groupby('Gender')['Num Cases'].sum()"
   ]
  },
  {
   "cell_type": "code",
   "execution_count": null,
   "metadata": {},
   "outputs": [],
   "source": []
  },
  {
   "cell_type": "markdown",
   "metadata": {},
   "source": [
    "#### Which Age group is infected most ?"
   ]
  },
  {
   "cell_type": "code",
   "execution_count": 45,
   "metadata": {},
   "outputs": [
    {
     "data": {
      "text/plain": [
       "Age Bracket\n",
       "30.0       1925.0\n",
       "30         1789.0\n",
       "40.0       1723.0\n",
       "35         1675.0\n",
       "35.0       1641.0\n",
       "            ...  \n",
       "101.0         1.0\n",
       "102           1.0\n",
       "105           1.0\n",
       "16 DAYS       1.0\n",
       "29.6          1.0\n",
       "Name: Num Cases, Length: 333, dtype: float64"
      ]
     },
     "execution_count": 45,
     "metadata": {},
     "output_type": "execute_result"
    }
   ],
   "source": [
    "data.groupby('Age Bracket')['Num Cases'].sum().sort_values(ascending=False)"
   ]
  },
  {
   "cell_type": "code",
   "execution_count": 46,
   "metadata": {},
   "outputs": [
    {
     "data": {
      "image/png": "[encoded data removed]",
      "text/plain": [
       "<Figure size 1440x720 with 1 Axes>"
      ]
     },
     "metadata": {
      "needs_background": "light"
     },
     "output_type": "display_data"
    }
   ],
   "source": [
    "data.groupby('Age Bracket')['Num Cases'].sum().plot.bar(figsize=(20,10))\n",
    "plt.show()"
   ]
  },
  {
   "cell_type": "markdown",
   "metadata": {},
   "source": [
    "#### Check Statewise Total cases in India"
   ]
  },
  {
   "cell_type": "code",
   "execution_count": 47,
   "metadata": {},
   "outputs": [],
   "source": [
    "state_wise = data[data['Current Status']=='Hospitalized'].groupby('Detected State')['Num Cases'].sum().sort_values(ascending=False)"
   ]
  },
  {
   "cell_type": "code",
   "execution_count": 48,
   "metadata": {},
   "outputs": [
    {
     "data": {
      "text/plain": [
       "Detected State\n",
       "Maharashtra                                 1780194.0\n",
       "Karnataka                                    872974.0\n",
       "Andhra Pradesh                               862756.0\n",
       "Tamil Nadu                                   769988.0\n",
       "Kerala                                       562635.0\n",
       "Delhi                                        529859.0\n",
       "Uttar Pradesh                                526771.0\n",
       "West Bengal                                  456355.0\n",
       "Odisha                                       314628.0\n",
       "Telangana                                    264126.0\n",
       "Rajasthan                                    243932.0\n",
       "Bihar                                        231043.0\n",
       "Chhattisgarh                                 223428.0\n",
       "Haryana                                      217288.0\n",
       "Assam                                        211513.0\n",
       "Gujarat                                      197407.0\n",
       "Madhya Pradesh                               193042.0\n",
       "Punjab                                       146344.0\n",
       "Jharkhand                                    107469.0\n",
       "Jammu and Kashmir                            106898.0\n",
       "Uttarakhand                                   71255.0\n",
       "Goa                                           46826.0\n",
       "Puducherry                                    36693.0\n",
       "Himachal Pradesh                              34325.0\n",
       "Tripura                                       32431.0\n",
       "Manipur                                       23399.0\n",
       "Chandigarh                                    16671.0\n",
       "Arunachal Pradesh                             16061.0\n",
       "Meghalaya                                     11339.0\n",
       "Nagaland                                      10777.0\n",
       "Ladakh                                         7939.0\n",
       "Sikkim                                         4722.0\n",
       "Andaman and Nicobar Islands                    4630.0\n",
       "Mizoram                                        3660.0\n",
       "Dadra and Nagar Haveli and Daman and Diu       3320.0\n",
       "State Unassigned                                  0.0\n",
       "Name: Num Cases, dtype: float64"
      ]
     },
     "execution_count": 48,
     "metadata": {},
     "output_type": "execute_result"
    }
   ],
   "source": [
    "state_wise"
   ]
  },
  {
   "cell_type": "code",
   "execution_count": 53,
   "metadata": {},
   "outputs": [
    {
     "data": {
      "image/png": "[encoded data removed]",
      "text/plain": [
       "<Figure size 1440x720 with 1 Axes>"
      ]
     },
     "metadata": {
      "needs_background": "light"
     },
     "output_type": "display_data"
    }
   ],
   "source": [
    "state_wise.plot.bar(figsize = (20,10))\n",
    "plt.show()"
   ]
  },
  {
   "cell_type": "markdown",
   "metadata": {},
   "source": [
    "#### How many cases Everyday ?"
   ]
  },
  {
   "cell_type": "code",
   "execution_count": 59,
   "metadata": {},
   "outputs": [],
   "source": [
    "everyday_cases = data[data['Current Status'] == 'Hospitalized'].groupby(['Month', 'Day'])[['Num Cases']].sum()"
   ]
  },
  {
   "cell_type": "code",
   "execution_count": 65,
   "metadata": {},
   "outputs": [
    {
     "data": {
      "text/html": [
       "<div>\n",
       "<style scoped>\n",
       "    .dataframe tbody tr th:only-of-type {\n",
       "        vertical-align: middle;\n",
       "    }\n",
       "\n",
       "    .dataframe tbody tr th {\n",
       "        vertical-align: top;\n",
       "    }\n",
       "\n",
       "    .dataframe thead th {\n",
       "        text-align: right;\n",
       "    }\n",
       "</style>\n",
       "<table border=\"1\" class=\"dataframe\">\n",
       "  <thead>\n",
       "    <tr style=\"text-align: right;\">\n",
       "      <th></th>\n",
       "      <th></th>\n",
       "      <th>Num Cases</th>\n",
       "    </tr>\n",
       "    <tr>\n",
       "      <th>Month</th>\n",
       "      <th>Day</th>\n",
       "      <th></th>\n",
       "    </tr>\n",
       "  </thead>\n",
       "  <tbody>\n",
       "    <tr>\n",
       "      <th rowspan=\"5\" valign=\"top\">3.0</th>\n",
       "      <th>4.0</th>\n",
       "      <td>5.0</td>\n",
       "    </tr>\n",
       "    <tr>\n",
       "      <th>5.0</th>\n",
       "      <td>1.0</td>\n",
       "    </tr>\n",
       "    <tr>\n",
       "      <th>7.0</th>\n",
       "      <td>2.0</td>\n",
       "    </tr>\n",
       "    <tr>\n",
       "      <th>9.0</th>\n",
       "      <td>4.0</td>\n",
       "    </tr>\n",
       "    <tr>\n",
       "      <th>10.0</th>\n",
       "      <td>4.0</td>\n",
       "    </tr>\n",
       "    <tr>\n",
       "      <th>...</th>\n",
       "      <th>...</th>\n",
       "      <td>...</td>\n",
       "    </tr>\n",
       "    <tr>\n",
       "      <th rowspan=\"5\" valign=\"top\">11.0</th>\n",
       "      <th>19.0</th>\n",
       "      <td>46185.0</td>\n",
       "    </tr>\n",
       "    <tr>\n",
       "      <th>20.0</th>\n",
       "      <td>46283.0</td>\n",
       "    </tr>\n",
       "    <tr>\n",
       "      <th>21.0</th>\n",
       "      <td>45301.0</td>\n",
       "    </tr>\n",
       "    <tr>\n",
       "      <th>22.0</th>\n",
       "      <td>44404.0</td>\n",
       "    </tr>\n",
       "    <tr>\n",
       "      <th>23.0</th>\n",
       "      <td>2614.0</td>\n",
       "    </tr>\n",
       "  </tbody>\n",
       "</table>\n",
       "<p>263 rows × 1 columns</p>\n",
       "</div>"
      ],
      "text/plain": [
       "            Num Cases\n",
       "Month Day            \n",
       "3.0   4.0         5.0\n",
       "      5.0         1.0\n",
       "      7.0         2.0\n",
       "      9.0         4.0\n",
       "      10.0        4.0\n",
       "...               ...\n",
       "11.0  19.0    46185.0\n",
       "      20.0    46283.0\n",
       "      21.0    45301.0\n",
       "      22.0    44404.0\n",
       "      23.0     2614.0\n",
       "\n",
       "[263 rows x 1 columns]"
      ]
     },
     "execution_count": 65,
     "metadata": {},
     "output_type": "execute_result"
    }
   ],
   "source": [
    "everyday_cases"
   ]
  },
  {
   "cell_type": "code",
   "execution_count": 69,
   "metadata": {},
   "outputs": [
    {
     "data": {
      "image/png": "[encoded data removed]",
      "text/plain": [
       "<Figure size 1080x1080 with 9 Axes>"
      ]
     },
     "metadata": {
      "needs_background": "light"
     },
     "output_type": "display_data"
    }
   ],
   "source": [
    "everyday_cases.unstack(level=0).plot(kind='bar',subplots=True, figsize=(15,15))\n",
    "plt.show()"
   ]
  },
  {
   "cell_type": "markdown",
   "metadata": {},
   "source": [
    "#### Corona death cases"
   ]
  },
  {
   "cell_type": "code",
   "execution_count": 71,
   "metadata": {},
   "outputs": [
    {
     "data": {
      "text/plain": [
       "array(['Recovered', 'Hospitalized', 'Deceased', 'Migrated',\n",
       "       'Migrated_Other', nan, 'Migrated_other'], dtype=object)"
      ]
     },
     "execution_count": 71,
     "metadata": {},
     "output_type": "execute_result"
    }
   ],
   "source": [
    "data['Current Status'].unique()"
   ]
  },
  {
   "cell_type": "code",
   "execution_count": 74,
   "metadata": {},
   "outputs": [
    {
     "data": {
      "text/plain": [
       "132988.0"
      ]
     },
     "execution_count": 74,
     "metadata": {},
     "output_type": "execute_result"
    }
   ],
   "source": [
    "data[data['Current Status']=='Deceased']['Num Cases'].sum()"
   ]
  },
  {
   "cell_type": "markdown",
   "metadata": {},
   "source": [
    "#### State wise death cases"
   ]
  },
  {
   "cell_type": "code",
   "execution_count": 78,
   "metadata": {},
   "outputs": [
    {
     "data": {
      "text/plain": [
       "Detected State\n",
       "Maharashtra                                 46292.0\n",
       "Karnataka                                   11646.0\n",
       "Tamil Nadu                                  11582.0\n",
       "Delhi                                        8338.0\n",
       "West Bengal                                  8008.0\n",
       "Uttar Pradesh                                7530.0\n",
       "Andhra Pradesh                               6917.0\n",
       "Punjab                                       4598.0\n",
       "Gujarat                                      3712.0\n",
       "Madhya Pradesh                               3061.0\n",
       "Chhattisgarh                                 2732.0\n",
       "Haryana                                      2185.0\n",
       "Rajasthan                                    2123.0\n",
       "Kerala                                       2049.0\n",
       "Odisha                                       1710.0\n",
       "Jammu and Kashmir                            1636.0\n",
       "Telangana                                    1409.0\n",
       "Bihar                                        1226.0\n",
       "Uttarakhand                                  1155.0\n",
       "Assam                                         973.0\n",
       "Jharkhand                                     947.0\n",
       "Goa                                           677.0\n",
       "Puducherry                                    609.0\n",
       "Himachal Pradesh                              527.0\n",
       "Tripura                                       366.0\n",
       "Chandigarh                                    260.0\n",
       "Manipur                                       236.0\n",
       "Meghalaya                                     109.0\n",
       "Ladakh                                        100.0\n",
       "Sikkim                                         99.0\n",
       "Andaman and Nicobar Islands                    61.0\n",
       "Nagaland                                       59.0\n",
       "Arunachal Pradesh                              49.0\n",
       "Mizoram                                         5.0\n",
       "Dadra and Nagar Haveli and Daman and Diu        2.0\n",
       "Name: Num Cases, dtype: float64"
      ]
     },
     "execution_count": 78,
     "metadata": {},
     "output_type": "execute_result"
    }
   ],
   "source": [
    "data[data['Current Status']=='Deceased'].groupby('Detected State')['Num Cases'].sum().sort_values(ascending=False)"
   ]
  },
  {
   "cell_type": "code",
   "execution_count": null,
   "metadata": {},
   "outputs": [],
   "source": []
  }
 ],
 "metadata": {
  "kernelspec": {
   "display_name": "Python 3",
   "language": "python",
   "name": "python3"
  },
  "language_info": {
   "codemirror_mode": {
    "name": "ipython",
    "version": 3
   },
   "file_extension": ".py",
   "mimetype": "text/x-python",
   "name": "python",
   "nbconvert_exporter": "python",
   "pygments_lexer": "ipython3",
   "version": "3.8.5"
  }
 },
 "nbformat": 4,
 "nbformat_minor": 4
}
